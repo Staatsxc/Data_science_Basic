{
 "cells": [
  {
   "cell_type": "markdown",
   "metadata": {
    "id": "VB8zvKUxEv_W"
   },
   "source": [
    "# **Quiz Pekan - 3**"
   ]
  },
  {
   "cell_type": "markdown",
   "metadata": {
    "id": "v2OY1URYFE93"
   },
   "source": [
    "# Soal 1 : Apakah harapan kalian saat mengikuti kelas Python Datascience dasar? "
   ]
  },
  {
   "cell_type": "markdown",
   "metadata": {
    "id": "5KAW04zaFHB6"
   },
   "source": [
    "Jawab:\n"
   ]
  },
  {
   "cell_type": "markdown",
   "metadata": {
    "id": "JBAXvO6tzVu_"
   },
   "source": [
    "\n",
    "\n",
    "---\n",
    "Tujuan saya mengikuti kelas Python Data Science dasar adalah:\n",
    "\n",
    "Agar dapat memahami dasar data science sebelum melanjutkan belajar ke tingkat yang lebih advance.\n",
    "\n",
    "---\n",
    "\n"
   ]
  },
  {
   "cell_type": "markdown",
   "metadata": {
    "id": "8yMR5KaXFKz6"
   },
   "source": [
    "\n",
    "## **Penjelasan Dataset**\n",
    "Dataset-dataset berikut ini menunjukkan score happines dunia. Score happiness menggunakan data dari GallUp world poll. Data feature yang menjadi kata kunci di report ini adalah:\n",
    "\n",
    "*  **Life Ladder** >> Ibarat sebuah tangga, pijakan 0 adalah dasar dan 10 adalah atas. Tangga atas menunjukkan  kehidupan terbaik  dan dasar tangga menunjukkan kehidupan terburuk \n",
    "*   **Log GDP Per capita** >> nilai ekonomi yang dihasilkan setiap individu warga\n",
    "*  **Social support**  >> dukungan sosial seperti keluarga, teman, tetangga dll\n",
    "*   **Healthy life expectancy at birth** >> rata-rata hidup dalam kesehatan yang baik\n",
    "*   **Freedom to make life choices** >> Peluang tiap individu untuk melakukan aksi yang dipilih\n",
    "*   **Generosity** >> Kemurahan hati\n",
    "*  **Perceptions of corruption**  >> Korupsi\n",
    "\n",
    "\n",
    "Link Download:\n",
    "\n",
    "[world-happiness-report.csv](https://drive.google.com/uc?export=download&id=14yujHboPMR5tc_n3btPcFW4fXgy4-SzL)\n",
    "\n",
    "[world-happiness-report-2021.csv](https://drive.google.com/uc?export=download&id=1gWCX58PyH0viABEMswzJ71sJ0v5KHco3)"
   ]
  },
  {
   "cell_type": "code",
   "execution_count": 2,
   "metadata": {
    "id": "n2uDMIPTFNqX"
   },
   "outputs": [],
   "source": [
    "import numpy as np\n",
    "import matplotlib.pyplot as plt\n",
    "import pandas as pd\n",
    "import seaborn as sns"
   ]
  },
  {
   "cell_type": "code",
   "execution_count": 61,
   "metadata": {
    "id": "TZ1UmzZEGcpi"
   },
   "outputs": [],
   "source": [
    "#import semua data\n",
    "\n",
    "df1 = pd.read_csv('world-happiness-report.csv')\n",
    "df2 = pd.read_csv('world-happiness-report-2021.csv')\n"
   ]
  },
  {
   "cell_type": "markdown",
   "metadata": {
    "id": "YMmGRLJkGjkF"
   },
   "source": [
    "# Soal 2 : Tunjukkan summary statistik dari dataset world happiness 2021 seperti expected output berikut. \n",
    "\n",
    "\n",
    "\n",
    "*   Tunjukkan summary statistik dari dataset df2\n",
    "\n",
    "\n",
    "\n",
    "HINT:\n",
    "Teman-teman perlu mendrop beberapa kolom yang tidak ditampilkan di tabel expected output dengan menggunakan atribut .drop() dari pandas DataFrame. Silahkan kunjungi referensi link berikut:\n",
    "https://pandas.pydata.org/pandas-docs/stable/reference/api/pandas.DataFrame.drop.html"
   ]
  },
  {
   "cell_type": "code",
   "execution_count": 29,
   "metadata": {},
   "outputs": [
    {
     "data": {
      "text/html": [
       "<div>\n",
       "<style scoped>\n",
       "    .dataframe tbody tr th:only-of-type {\n",
       "        vertical-align: middle;\n",
       "    }\n",
       "\n",
       "    .dataframe tbody tr th {\n",
       "        vertical-align: top;\n",
       "    }\n",
       "\n",
       "    .dataframe thead th {\n",
       "        text-align: right;\n",
       "    }\n",
       "</style>\n",
       "<table border=\"1\" class=\"dataframe\">\n",
       "  <thead>\n",
       "    <tr style=\"text-align: right;\">\n",
       "      <th></th>\n",
       "      <th>Ladder score</th>\n",
       "      <th>Standard error of ladder score</th>\n",
       "      <th>upperwhisker</th>\n",
       "      <th>lowerwhisker</th>\n",
       "      <th>Logged GDP per capita</th>\n",
       "      <th>Social support</th>\n",
       "      <th>Healthy life expectancy</th>\n",
       "      <th>Freedom to make life choices</th>\n",
       "      <th>Generosity</th>\n",
       "      <th>Perceptions of corruption</th>\n",
       "      <th>Ladder score in Dystopia</th>\n",
       "      <th>Explained by: Log GDP per capita</th>\n",
       "      <th>Explained by: Social support</th>\n",
       "      <th>Explained by: Healthy life expectancy</th>\n",
       "      <th>Explained by: Freedom to make life choices</th>\n",
       "      <th>Explained by: Generosity</th>\n",
       "      <th>Explained by: Perceptions of corruption</th>\n",
       "      <th>Dystopia + residual</th>\n",
       "    </tr>\n",
       "  </thead>\n",
       "  <tbody>\n",
       "    <tr>\n",
       "      <th>count</th>\n",
       "      <td>149.000000</td>\n",
       "      <td>149.000000</td>\n",
       "      <td>149.000000</td>\n",
       "      <td>149.000000</td>\n",
       "      <td>149.000000</td>\n",
       "      <td>149.000000</td>\n",
       "      <td>149.000000</td>\n",
       "      <td>149.000000</td>\n",
       "      <td>149.000000</td>\n",
       "      <td>149.000000</td>\n",
       "      <td>149.00</td>\n",
       "      <td>149.000000</td>\n",
       "      <td>149.000000</td>\n",
       "      <td>149.000000</td>\n",
       "      <td>149.000000</td>\n",
       "      <td>149.000000</td>\n",
       "      <td>149.000000</td>\n",
       "      <td>149.000000</td>\n",
       "    </tr>\n",
       "    <tr>\n",
       "      <th>mean</th>\n",
       "      <td>5.532839</td>\n",
       "      <td>0.058752</td>\n",
       "      <td>5.648007</td>\n",
       "      <td>5.417631</td>\n",
       "      <td>9.432208</td>\n",
       "      <td>0.814745</td>\n",
       "      <td>64.992799</td>\n",
       "      <td>0.791597</td>\n",
       "      <td>-0.015134</td>\n",
       "      <td>0.727450</td>\n",
       "      <td>2.43</td>\n",
       "      <td>0.977161</td>\n",
       "      <td>0.793315</td>\n",
       "      <td>0.520161</td>\n",
       "      <td>0.498711</td>\n",
       "      <td>0.178047</td>\n",
       "      <td>0.135141</td>\n",
       "      <td>2.430329</td>\n",
       "    </tr>\n",
       "    <tr>\n",
       "      <th>std</th>\n",
       "      <td>1.073924</td>\n",
       "      <td>0.022001</td>\n",
       "      <td>1.054330</td>\n",
       "      <td>1.094879</td>\n",
       "      <td>1.158601</td>\n",
       "      <td>0.114889</td>\n",
       "      <td>6.762043</td>\n",
       "      <td>0.113332</td>\n",
       "      <td>0.150657</td>\n",
       "      <td>0.179226</td>\n",
       "      <td>0.00</td>\n",
       "      <td>0.404740</td>\n",
       "      <td>0.258871</td>\n",
       "      <td>0.213019</td>\n",
       "      <td>0.137888</td>\n",
       "      <td>0.098270</td>\n",
       "      <td>0.114361</td>\n",
       "      <td>0.537645</td>\n",
       "    </tr>\n",
       "    <tr>\n",
       "      <th>min</th>\n",
       "      <td>2.523000</td>\n",
       "      <td>0.026000</td>\n",
       "      <td>2.596000</td>\n",
       "      <td>2.449000</td>\n",
       "      <td>6.635000</td>\n",
       "      <td>0.463000</td>\n",
       "      <td>48.478000</td>\n",
       "      <td>0.382000</td>\n",
       "      <td>-0.288000</td>\n",
       "      <td>0.082000</td>\n",
       "      <td>2.43</td>\n",
       "      <td>0.000000</td>\n",
       "      <td>0.000000</td>\n",
       "      <td>0.000000</td>\n",
       "      <td>0.000000</td>\n",
       "      <td>0.000000</td>\n",
       "      <td>0.000000</td>\n",
       "      <td>0.648000</td>\n",
       "    </tr>\n",
       "    <tr>\n",
       "      <th>25%</th>\n",
       "      <td>4.852000</td>\n",
       "      <td>0.043000</td>\n",
       "      <td>4.991000</td>\n",
       "      <td>4.706000</td>\n",
       "      <td>8.541000</td>\n",
       "      <td>0.750000</td>\n",
       "      <td>59.802000</td>\n",
       "      <td>0.718000</td>\n",
       "      <td>-0.126000</td>\n",
       "      <td>0.667000</td>\n",
       "      <td>2.43</td>\n",
       "      <td>0.666000</td>\n",
       "      <td>0.647000</td>\n",
       "      <td>0.357000</td>\n",
       "      <td>0.409000</td>\n",
       "      <td>0.105000</td>\n",
       "      <td>0.060000</td>\n",
       "      <td>2.138000</td>\n",
       "    </tr>\n",
       "    <tr>\n",
       "      <th>50%</th>\n",
       "      <td>5.534000</td>\n",
       "      <td>0.054000</td>\n",
       "      <td>5.625000</td>\n",
       "      <td>5.413000</td>\n",
       "      <td>9.569000</td>\n",
       "      <td>0.832000</td>\n",
       "      <td>66.603000</td>\n",
       "      <td>0.804000</td>\n",
       "      <td>-0.036000</td>\n",
       "      <td>0.781000</td>\n",
       "      <td>2.43</td>\n",
       "      <td>1.025000</td>\n",
       "      <td>0.832000</td>\n",
       "      <td>0.571000</td>\n",
       "      <td>0.514000</td>\n",
       "      <td>0.164000</td>\n",
       "      <td>0.101000</td>\n",
       "      <td>2.509000</td>\n",
       "    </tr>\n",
       "    <tr>\n",
       "      <th>75%</th>\n",
       "      <td>6.255000</td>\n",
       "      <td>0.070000</td>\n",
       "      <td>6.344000</td>\n",
       "      <td>6.128000</td>\n",
       "      <td>10.421000</td>\n",
       "      <td>0.905000</td>\n",
       "      <td>69.600000</td>\n",
       "      <td>0.877000</td>\n",
       "      <td>0.079000</td>\n",
       "      <td>0.845000</td>\n",
       "      <td>2.43</td>\n",
       "      <td>1.323000</td>\n",
       "      <td>0.996000</td>\n",
       "      <td>0.665000</td>\n",
       "      <td>0.603000</td>\n",
       "      <td>0.239000</td>\n",
       "      <td>0.174000</td>\n",
       "      <td>2.794000</td>\n",
       "    </tr>\n",
       "    <tr>\n",
       "      <th>max</th>\n",
       "      <td>7.842000</td>\n",
       "      <td>0.173000</td>\n",
       "      <td>7.904000</td>\n",
       "      <td>7.780000</td>\n",
       "      <td>11.647000</td>\n",
       "      <td>0.983000</td>\n",
       "      <td>76.953000</td>\n",
       "      <td>0.970000</td>\n",
       "      <td>0.542000</td>\n",
       "      <td>0.939000</td>\n",
       "      <td>2.43</td>\n",
       "      <td>1.751000</td>\n",
       "      <td>1.172000</td>\n",
       "      <td>0.897000</td>\n",
       "      <td>0.716000</td>\n",
       "      <td>0.541000</td>\n",
       "      <td>0.547000</td>\n",
       "      <td>3.482000</td>\n",
       "    </tr>\n",
       "  </tbody>\n",
       "</table>\n",
       "</div>"
      ],
      "text/plain": [
       "       Ladder score  Standard error of ladder score  upperwhisker  \\\n",
       "count    149.000000                      149.000000    149.000000   \n",
       "mean       5.532839                        0.058752      5.648007   \n",
       "std        1.073924                        0.022001      1.054330   \n",
       "min        2.523000                        0.026000      2.596000   \n",
       "25%        4.852000                        0.043000      4.991000   \n",
       "50%        5.534000                        0.054000      5.625000   \n",
       "75%        6.255000                        0.070000      6.344000   \n",
       "max        7.842000                        0.173000      7.904000   \n",
       "\n",
       "       lowerwhisker  Logged GDP per capita  Social support  \\\n",
       "count    149.000000             149.000000      149.000000   \n",
       "mean       5.417631               9.432208        0.814745   \n",
       "std        1.094879               1.158601        0.114889   \n",
       "min        2.449000               6.635000        0.463000   \n",
       "25%        4.706000               8.541000        0.750000   \n",
       "50%        5.413000               9.569000        0.832000   \n",
       "75%        6.128000              10.421000        0.905000   \n",
       "max        7.780000              11.647000        0.983000   \n",
       "\n",
       "       Healthy life expectancy  Freedom to make life choices  Generosity  \\\n",
       "count               149.000000                    149.000000  149.000000   \n",
       "mean                 64.992799                      0.791597   -0.015134   \n",
       "std                   6.762043                      0.113332    0.150657   \n",
       "min                  48.478000                      0.382000   -0.288000   \n",
       "25%                  59.802000                      0.718000   -0.126000   \n",
       "50%                  66.603000                      0.804000   -0.036000   \n",
       "75%                  69.600000                      0.877000    0.079000   \n",
       "max                  76.953000                      0.970000    0.542000   \n",
       "\n",
       "       Perceptions of corruption  Ladder score in Dystopia  \\\n",
       "count                 149.000000                    149.00   \n",
       "mean                    0.727450                      2.43   \n",
       "std                     0.179226                      0.00   \n",
       "min                     0.082000                      2.43   \n",
       "25%                     0.667000                      2.43   \n",
       "50%                     0.781000                      2.43   \n",
       "75%                     0.845000                      2.43   \n",
       "max                     0.939000                      2.43   \n",
       "\n",
       "       Explained by: Log GDP per capita  Explained by: Social support  \\\n",
       "count                        149.000000                    149.000000   \n",
       "mean                           0.977161                      0.793315   \n",
       "std                            0.404740                      0.258871   \n",
       "min                            0.000000                      0.000000   \n",
       "25%                            0.666000                      0.647000   \n",
       "50%                            1.025000                      0.832000   \n",
       "75%                            1.323000                      0.996000   \n",
       "max                            1.751000                      1.172000   \n",
       "\n",
       "       Explained by: Healthy life expectancy  \\\n",
       "count                             149.000000   \n",
       "mean                                0.520161   \n",
       "std                                 0.213019   \n",
       "min                                 0.000000   \n",
       "25%                                 0.357000   \n",
       "50%                                 0.571000   \n",
       "75%                                 0.665000   \n",
       "max                                 0.897000   \n",
       "\n",
       "       Explained by: Freedom to make life choices  Explained by: Generosity  \\\n",
       "count                                  149.000000                149.000000   \n",
       "mean                                     0.498711                  0.178047   \n",
       "std                                      0.137888                  0.098270   \n",
       "min                                      0.000000                  0.000000   \n",
       "25%                                      0.409000                  0.105000   \n",
       "50%                                      0.514000                  0.164000   \n",
       "75%                                      0.603000                  0.239000   \n",
       "max                                      0.716000                  0.541000   \n",
       "\n",
       "       Explained by: Perceptions of corruption  Dystopia + residual  \n",
       "count                               149.000000           149.000000  \n",
       "mean                                  0.135141             2.430329  \n",
       "std                                   0.114361             0.537645  \n",
       "min                                   0.000000             0.648000  \n",
       "25%                                   0.060000             2.138000  \n",
       "50%                                   0.101000             2.509000  \n",
       "75%                                   0.174000             2.794000  \n",
       "max                                   0.547000             3.482000  "
      ]
     },
     "execution_count": 29,
     "metadata": {},
     "output_type": "execute_result"
    }
   ],
   "source": [
    "df2.describe()"
   ]
  },
  {
   "cell_type": "code",
   "execution_count": 64,
   "metadata": {
    "id": "OC7WmIfHGkNG"
   },
   "outputs": [
    {
     "data": {
      "text/html": [
       "<div>\n",
       "<style scoped>\n",
       "    .dataframe tbody tr th:only-of-type {\n",
       "        vertical-align: middle;\n",
       "    }\n",
       "\n",
       "    .dataframe tbody tr th {\n",
       "        vertical-align: top;\n",
       "    }\n",
       "\n",
       "    .dataframe thead th {\n",
       "        text-align: right;\n",
       "    }\n",
       "</style>\n",
       "<table border=\"1\" class=\"dataframe\">\n",
       "  <thead>\n",
       "    <tr style=\"text-align: right;\">\n",
       "      <th></th>\n",
       "      <th>Ladder score</th>\n",
       "      <th>Logged GDP per capita</th>\n",
       "      <th>Social support</th>\n",
       "      <th>Healthy life expectancy</th>\n",
       "      <th>Freedom to make life choices</th>\n",
       "      <th>Generosity</th>\n",
       "      <th>Perceptions of corruption</th>\n",
       "      <th>Dystopia + residual</th>\n",
       "    </tr>\n",
       "  </thead>\n",
       "  <tbody>\n",
       "    <tr>\n",
       "      <th>count</th>\n",
       "      <td>149.000000</td>\n",
       "      <td>149.000000</td>\n",
       "      <td>149.000000</td>\n",
       "      <td>149.000000</td>\n",
       "      <td>149.000000</td>\n",
       "      <td>149.000000</td>\n",
       "      <td>149.000000</td>\n",
       "      <td>149.000000</td>\n",
       "    </tr>\n",
       "    <tr>\n",
       "      <th>mean</th>\n",
       "      <td>5.532839</td>\n",
       "      <td>9.432208</td>\n",
       "      <td>0.814745</td>\n",
       "      <td>64.992799</td>\n",
       "      <td>0.791597</td>\n",
       "      <td>-0.015134</td>\n",
       "      <td>0.727450</td>\n",
       "      <td>2.430329</td>\n",
       "    </tr>\n",
       "    <tr>\n",
       "      <th>std</th>\n",
       "      <td>1.073924</td>\n",
       "      <td>1.158601</td>\n",
       "      <td>0.114889</td>\n",
       "      <td>6.762043</td>\n",
       "      <td>0.113332</td>\n",
       "      <td>0.150657</td>\n",
       "      <td>0.179226</td>\n",
       "      <td>0.537645</td>\n",
       "    </tr>\n",
       "    <tr>\n",
       "      <th>min</th>\n",
       "      <td>2.523000</td>\n",
       "      <td>6.635000</td>\n",
       "      <td>0.463000</td>\n",
       "      <td>48.478000</td>\n",
       "      <td>0.382000</td>\n",
       "      <td>-0.288000</td>\n",
       "      <td>0.082000</td>\n",
       "      <td>0.648000</td>\n",
       "    </tr>\n",
       "    <tr>\n",
       "      <th>25%</th>\n",
       "      <td>4.852000</td>\n",
       "      <td>8.541000</td>\n",
       "      <td>0.750000</td>\n",
       "      <td>59.802000</td>\n",
       "      <td>0.718000</td>\n",
       "      <td>-0.126000</td>\n",
       "      <td>0.667000</td>\n",
       "      <td>2.138000</td>\n",
       "    </tr>\n",
       "    <tr>\n",
       "      <th>50%</th>\n",
       "      <td>5.534000</td>\n",
       "      <td>9.569000</td>\n",
       "      <td>0.832000</td>\n",
       "      <td>66.603000</td>\n",
       "      <td>0.804000</td>\n",
       "      <td>-0.036000</td>\n",
       "      <td>0.781000</td>\n",
       "      <td>2.509000</td>\n",
       "    </tr>\n",
       "    <tr>\n",
       "      <th>75%</th>\n",
       "      <td>6.255000</td>\n",
       "      <td>10.421000</td>\n",
       "      <td>0.905000</td>\n",
       "      <td>69.600000</td>\n",
       "      <td>0.877000</td>\n",
       "      <td>0.079000</td>\n",
       "      <td>0.845000</td>\n",
       "      <td>2.794000</td>\n",
       "    </tr>\n",
       "    <tr>\n",
       "      <th>max</th>\n",
       "      <td>7.842000</td>\n",
       "      <td>11.647000</td>\n",
       "      <td>0.983000</td>\n",
       "      <td>76.953000</td>\n",
       "      <td>0.970000</td>\n",
       "      <td>0.542000</td>\n",
       "      <td>0.939000</td>\n",
       "      <td>3.482000</td>\n",
       "    </tr>\n",
       "  </tbody>\n",
       "</table>\n",
       "</div>"
      ],
      "text/plain": [
       "       Ladder score  Logged GDP per capita  Social support  \\\n",
       "count    149.000000             149.000000      149.000000   \n",
       "mean       5.532839               9.432208        0.814745   \n",
       "std        1.073924               1.158601        0.114889   \n",
       "min        2.523000               6.635000        0.463000   \n",
       "25%        4.852000               8.541000        0.750000   \n",
       "50%        5.534000               9.569000        0.832000   \n",
       "75%        6.255000              10.421000        0.905000   \n",
       "max        7.842000              11.647000        0.983000   \n",
       "\n",
       "       Healthy life expectancy  Freedom to make life choices  Generosity  \\\n",
       "count               149.000000                    149.000000  149.000000   \n",
       "mean                 64.992799                      0.791597   -0.015134   \n",
       "std                   6.762043                      0.113332    0.150657   \n",
       "min                  48.478000                      0.382000   -0.288000   \n",
       "25%                  59.802000                      0.718000   -0.126000   \n",
       "50%                  66.603000                      0.804000   -0.036000   \n",
       "75%                  69.600000                      0.877000    0.079000   \n",
       "max                  76.953000                      0.970000    0.542000   \n",
       "\n",
       "       Perceptions of corruption  Dystopia + residual  \n",
       "count                 149.000000           149.000000  \n",
       "mean                    0.727450             2.430329  \n",
       "std                     0.179226             0.537645  \n",
       "min                     0.082000             0.648000  \n",
       "25%                     0.667000             2.138000  \n",
       "50%                     0.781000             2.509000  \n",
       "75%                     0.845000             2.794000  \n",
       "max                     0.939000             3.482000  "
      ]
     },
     "execution_count": 64,
     "metadata": {},
     "output_type": "execute_result"
    }
   ],
   "source": [
    "#code here\n",
    "df_bersih = df2.drop(columns=['Country name'\n",
    "                 ,'Regional indicator'\n",
    "                 ,'Standard error of ladder score'\n",
    "                 ,'upperwhisker'\n",
    "                 ,'lowerwhisker'\n",
    "                 ,'Ladder score in Dystopia'\n",
    "                 ,'Explained by: Log GDP per capita'\n",
    "                 ,'Explained by: Social support'\n",
    "                 ,'Explained by: Healthy life expectancy'\n",
    "                 ,'Explained by: Freedom to make life choices'\n",
    "                 ,'Explained by: Generosity'\n",
    "                 ,'Explained by: Perceptions of corruption'])\n",
    "df_bersih.describe()"
   ]
  },
  {
   "cell_type": "markdown",
   "metadata": {
    "id": "wfmhO6ovGlV2"
   },
   "source": [
    "Expected output:\n",
    "\n",
    "![Expected Output:](https://drive.google.com/uc?id=1wvMxczKvP94GTAGTWmjoBydNOkK0OqU2)"
   ]
  },
  {
   "cell_type": "markdown",
   "metadata": {
    "id": "9VSQwAMbM2HY"
   },
   "source": [
    "\n",
    "\n",
    "---\n",
    "\n",
    "\n",
    "\n",
    "---\n",
    "\n"
   ]
  },
  {
   "cell_type": "markdown",
   "metadata": {
    "id": "eO_bSRRSM5pp"
   },
   "source": [
    "# Soal 3: Happiness report negara Indonesia dari tahun 2006 - 2021\n",
    "\n",
    "Output yang diharapkan adalah data negara Indonesia dari penggabungan dataset happiness report dan dataset happiness report 2021. Untuk sesuai dengan expected ouput, lakukan perintah-perintah berikut:\n",
    "\n",
    "\n",
    "1.   Lakukan filtering dataset happiness report dari kolom ['Country name']== \n",
    "'Indonesia'\n",
    "        - tambahkan atribut .reset_index(drop=True)\n",
    "        - drop kolom 'Positive affect' dan 'Negative affect'\n",
    "\n",
    "2.   Lakukan filtering dataset dari variabel no 2 (hasil dropping beberapa kolom sebelumnya)\n",
    "        - tambahkan kolom ['year']=2021 pada dataset dari variabel no 2 (hasil dropping beberapa kolom)\n",
    "        - filtering dataset tersebut menggunakan kolom ['Country name']== \n",
    "'Indonesia'\n",
    "        - rename beberapa kolom dengan menggunakan atribut .rename() dari pandas, referensi dokumentasi : https://pandas.pydata.org/pandas-docs/stable/reference/api/pandas.DataFrame.rename.html\n",
    "                {      \n",
    "               'Ladder score':'Life Ladder',\n",
    "               'Logged GDP per capita':'Log GDP per capita',\n",
    "                'Healthy life expectancy':'Healthy life expectancy at birth'}\n",
    "\n",
    "        - drop kolom 'Dystopia + residual' dan 'Regional indicator'\n",
    "\n",
    "3. Gabungkan data dari hasil poin 1 dan poin 2\n",
    "    -  gunakan pandas concat, .concat()\n",
    "    - tambahkan atribut .reset_index(drop=True)\n",
    "    - rename kolom {'year':'Year'}\n"
   ]
  },
  {
   "cell_type": "code",
   "execution_count": 111,
   "metadata": {
    "id": "fkgNPtq0M-ps"
   },
   "outputs": [
    {
     "data": {
      "text/html": [
       "<div>\n",
       "<style scoped>\n",
       "    .dataframe tbody tr th:only-of-type {\n",
       "        vertical-align: middle;\n",
       "    }\n",
       "\n",
       "    .dataframe tbody tr th {\n",
       "        vertical-align: top;\n",
       "    }\n",
       "\n",
       "    .dataframe thead th {\n",
       "        text-align: right;\n",
       "    }\n",
       "</style>\n",
       "<table border=\"1\" class=\"dataframe\">\n",
       "  <thead>\n",
       "    <tr style=\"text-align: right;\">\n",
       "      <th></th>\n",
       "      <th>Country name</th>\n",
       "      <th>Year</th>\n",
       "      <th>Life Ladder</th>\n",
       "      <th>Log GDP per capita</th>\n",
       "      <th>Social support</th>\n",
       "      <th>Healthy life expectancy at birth</th>\n",
       "      <th>Freedom to make life choices</th>\n",
       "      <th>Generosity</th>\n",
       "      <th>Perceptions of corruption</th>\n",
       "    </tr>\n",
       "  </thead>\n",
       "  <tbody>\n",
       "    <tr>\n",
       "      <th>0</th>\n",
       "      <td>Indonesia</td>\n",
       "      <td>2006</td>\n",
       "      <td>4.947</td>\n",
       "      <td>8.850</td>\n",
       "      <td>0.771</td>\n",
       "      <td>59.840</td>\n",
       "      <td>0.713</td>\n",
       "      <td>0.347</td>\n",
       "      <td>0.915</td>\n",
       "    </tr>\n",
       "    <tr>\n",
       "      <th>1</th>\n",
       "      <td>Indonesia</td>\n",
       "      <td>2007</td>\n",
       "      <td>5.101</td>\n",
       "      <td>8.898</td>\n",
       "      <td>0.704</td>\n",
       "      <td>59.980</td>\n",
       "      <td>0.603</td>\n",
       "      <td>0.311</td>\n",
       "      <td>0.960</td>\n",
       "    </tr>\n",
       "    <tr>\n",
       "      <th>2</th>\n",
       "      <td>Indonesia</td>\n",
       "      <td>2008</td>\n",
       "      <td>4.815</td>\n",
       "      <td>8.943</td>\n",
       "      <td>0.675</td>\n",
       "      <td>60.120</td>\n",
       "      <td>0.596</td>\n",
       "      <td>0.164</td>\n",
       "      <td>0.968</td>\n",
       "    </tr>\n",
       "    <tr>\n",
       "      <th>3</th>\n",
       "      <td>Indonesia</td>\n",
       "      <td>2009</td>\n",
       "      <td>5.472</td>\n",
       "      <td>8.975</td>\n",
       "      <td>0.779</td>\n",
       "      <td>60.260</td>\n",
       "      <td>0.784</td>\n",
       "      <td>0.191</td>\n",
       "      <td>0.911</td>\n",
       "    </tr>\n",
       "    <tr>\n",
       "      <th>4</th>\n",
       "      <td>Indonesia</td>\n",
       "      <td>2010</td>\n",
       "      <td>5.457</td>\n",
       "      <td>9.022</td>\n",
       "      <td>0.816</td>\n",
       "      <td>60.400</td>\n",
       "      <td>0.700</td>\n",
       "      <td>0.448</td>\n",
       "      <td>0.954</td>\n",
       "    </tr>\n",
       "    <tr>\n",
       "      <th>5</th>\n",
       "      <td>Indonesia</td>\n",
       "      <td>2011</td>\n",
       "      <td>5.173</td>\n",
       "      <td>9.069</td>\n",
       "      <td>0.825</td>\n",
       "      <td>60.620</td>\n",
       "      <td>0.878</td>\n",
       "      <td>0.438</td>\n",
       "      <td>0.962</td>\n",
       "    </tr>\n",
       "    <tr>\n",
       "      <th>6</th>\n",
       "      <td>Indonesia</td>\n",
       "      <td>2012</td>\n",
       "      <td>5.368</td>\n",
       "      <td>9.114</td>\n",
       "      <td>0.834</td>\n",
       "      <td>60.840</td>\n",
       "      <td>0.770</td>\n",
       "      <td>0.354</td>\n",
       "      <td>0.962</td>\n",
       "    </tr>\n",
       "    <tr>\n",
       "      <th>7</th>\n",
       "      <td>Indonesia</td>\n",
       "      <td>2013</td>\n",
       "      <td>5.292</td>\n",
       "      <td>9.155</td>\n",
       "      <td>0.794</td>\n",
       "      <td>61.060</td>\n",
       "      <td>0.781</td>\n",
       "      <td>0.376</td>\n",
       "      <td>0.973</td>\n",
       "    </tr>\n",
       "    <tr>\n",
       "      <th>8</th>\n",
       "      <td>Indonesia</td>\n",
       "      <td>2014</td>\n",
       "      <td>5.597</td>\n",
       "      <td>9.190</td>\n",
       "      <td>0.905</td>\n",
       "      <td>61.280</td>\n",
       "      <td>0.719</td>\n",
       "      <td>0.408</td>\n",
       "      <td>0.970</td>\n",
       "    </tr>\n",
       "    <tr>\n",
       "      <th>9</th>\n",
       "      <td>Indonesia</td>\n",
       "      <td>2015</td>\n",
       "      <td>5.043</td>\n",
       "      <td>9.225</td>\n",
       "      <td>0.809</td>\n",
       "      <td>61.500</td>\n",
       "      <td>0.779</td>\n",
       "      <td>0.471</td>\n",
       "      <td>0.946</td>\n",
       "    </tr>\n",
       "    <tr>\n",
       "      <th>10</th>\n",
       "      <td>Indonesia</td>\n",
       "      <td>2016</td>\n",
       "      <td>5.136</td>\n",
       "      <td>9.262</td>\n",
       "      <td>0.792</td>\n",
       "      <td>61.700</td>\n",
       "      <td>0.830</td>\n",
       "      <td>0.500</td>\n",
       "      <td>0.890</td>\n",
       "    </tr>\n",
       "    <tr>\n",
       "      <th>11</th>\n",
       "      <td>Indonesia</td>\n",
       "      <td>2017</td>\n",
       "      <td>5.098</td>\n",
       "      <td>9.300</td>\n",
       "      <td>0.796</td>\n",
       "      <td>61.900</td>\n",
       "      <td>0.865</td>\n",
       "      <td>0.488</td>\n",
       "      <td>0.900</td>\n",
       "    </tr>\n",
       "    <tr>\n",
       "      <th>12</th>\n",
       "      <td>Indonesia</td>\n",
       "      <td>2018</td>\n",
       "      <td>5.340</td>\n",
       "      <td>9.339</td>\n",
       "      <td>0.809</td>\n",
       "      <td>62.100</td>\n",
       "      <td>0.879</td>\n",
       "      <td>0.512</td>\n",
       "      <td>0.868</td>\n",
       "    </tr>\n",
       "    <tr>\n",
       "      <th>13</th>\n",
       "      <td>Indonesia</td>\n",
       "      <td>2019</td>\n",
       "      <td>5.347</td>\n",
       "      <td>9.377</td>\n",
       "      <td>0.802</td>\n",
       "      <td>62.300</td>\n",
       "      <td>0.866</td>\n",
       "      <td>0.555</td>\n",
       "      <td>0.861</td>\n",
       "    </tr>\n",
       "    <tr>\n",
       "      <th>14</th>\n",
       "      <td>Indonesia</td>\n",
       "      <td>2021</td>\n",
       "      <td>5.345</td>\n",
       "      <td>9.365</td>\n",
       "      <td>0.811</td>\n",
       "      <td>62.236</td>\n",
       "      <td>0.873</td>\n",
       "      <td>0.542</td>\n",
       "      <td>0.867</td>\n",
       "    </tr>\n",
       "  </tbody>\n",
       "</table>\n",
       "</div>"
      ],
      "text/plain": [
       "   Country name  Year  Life Ladder  Log GDP per capita  Social support  \\\n",
       "0     Indonesia  2006        4.947               8.850           0.771   \n",
       "1     Indonesia  2007        5.101               8.898           0.704   \n",
       "2     Indonesia  2008        4.815               8.943           0.675   \n",
       "3     Indonesia  2009        5.472               8.975           0.779   \n",
       "4     Indonesia  2010        5.457               9.022           0.816   \n",
       "5     Indonesia  2011        5.173               9.069           0.825   \n",
       "6     Indonesia  2012        5.368               9.114           0.834   \n",
       "7     Indonesia  2013        5.292               9.155           0.794   \n",
       "8     Indonesia  2014        5.597               9.190           0.905   \n",
       "9     Indonesia  2015        5.043               9.225           0.809   \n",
       "10    Indonesia  2016        5.136               9.262           0.792   \n",
       "11    Indonesia  2017        5.098               9.300           0.796   \n",
       "12    Indonesia  2018        5.340               9.339           0.809   \n",
       "13    Indonesia  2019        5.347               9.377           0.802   \n",
       "14    Indonesia  2021        5.345               9.365           0.811   \n",
       "\n",
       "    Healthy life expectancy at birth  Freedom to make life choices  \\\n",
       "0                             59.840                         0.713   \n",
       "1                             59.980                         0.603   \n",
       "2                             60.120                         0.596   \n",
       "3                             60.260                         0.784   \n",
       "4                             60.400                         0.700   \n",
       "5                             60.620                         0.878   \n",
       "6                             60.840                         0.770   \n",
       "7                             61.060                         0.781   \n",
       "8                             61.280                         0.719   \n",
       "9                             61.500                         0.779   \n",
       "10                            61.700                         0.830   \n",
       "11                            61.900                         0.865   \n",
       "12                            62.100                         0.879   \n",
       "13                            62.300                         0.866   \n",
       "14                            62.236                         0.873   \n",
       "\n",
       "    Generosity  Perceptions of corruption  \n",
       "0        0.347                      0.915  \n",
       "1        0.311                      0.960  \n",
       "2        0.164                      0.968  \n",
       "3        0.191                      0.911  \n",
       "4        0.448                      0.954  \n",
       "5        0.438                      0.962  \n",
       "6        0.354                      0.962  \n",
       "7        0.376                      0.973  \n",
       "8        0.408                      0.970  \n",
       "9        0.471                      0.946  \n",
       "10       0.500                      0.890  \n",
       "11       0.488                      0.900  \n",
       "12       0.512                      0.868  \n",
       "13       0.555                      0.861  \n",
       "14       0.542                      0.867  "
      ]
     },
     "execution_count": 111,
     "metadata": {},
     "output_type": "execute_result"
    }
   ],
   "source": [
    "# TAHAP 1\n",
    "a = df1.loc[df1['Country name'] == 'Indonesia']\n",
    "a = a.drop(columns=['Positive affect',\n",
    "                   'Negative affect'])\n",
    "a = a.rename(columns= {'year':'Year'})\n",
    "\n",
    "# TAHAP 2\n",
    "dfb = df2.drop(columns=['Regional indicator'\n",
    "                 ,'Standard error of ladder score'\n",
    "                 ,'upperwhisker'\n",
    "                 ,'lowerwhisker'\n",
    "                 ,'Ladder score in Dystopia'\n",
    "                 ,'Explained by: Log GDP per capita'\n",
    "                 ,'Explained by: Social support'\n",
    "                 ,'Explained by: Healthy life expectancy'\n",
    "                 ,'Explained by: Freedom to make life choices'\n",
    "                 ,'Explained by: Generosity'\n",
    "                 ,'Explained by: Perceptions of corruption'\n",
    "                 ,'Dystopia + residual']\n",
    "              )\n",
    "\n",
    "b = dfb.loc[dfb['Country name'] == 'Indonesia']\n",
    "b = b.rename(columns= {'Ladder score':'Life Ladder',\n",
    "                       'Logged GDP per capita':'Log GDP per capita',\n",
    "                       'Healthy life expectancy':'Healthy life expectancy at birth'})\n",
    "b.insert(1, \"Year\", [2021], True)\n",
    "\n",
    "# TAHAP 3\n",
    "pd.concat([a, b], axis=\"index\").reset_index(drop=True)\n"
   ]
  },
  {
   "cell_type": "markdown",
   "metadata": {
    "id": "u4pKIYuCNC_N"
   },
   "source": [
    "Expected output:\n",
    "\n",
    "![Expected Output:](https://drive.google.com/uc?id=1FRTJ03i_khNOWeIeEGaAOSsurwKlZ8ex)"
   ]
  },
  {
   "cell_type": "markdown",
   "metadata": {
    "id": "xB08yvSoNQZk"
   },
   "source": [
    "\n",
    "\n",
    "---\n",
    "\n",
    "\n",
    "\n",
    "---\n",
    "\n"
   ]
  },
  {
   "cell_type": "markdown",
   "metadata": {
    "id": "9WVXGAm0NSnZ"
   },
   "source": [
    "# Soal 4: Visualisasi lineplot Life Ladder negara Indonesia\n",
    "\n",
    "*   Gunakan library seaborn untuk plotting line plot kolom Life Ladder dari hasil penggabungan negara Indonesia tahun 2006-2021 (soal 3) seperti expected output, jika tidak bisa menyelesaikan soal 3 silahkan download data berikut \n",
    "[Download.csv](https://drive.google.com/uc?export=download&id=19g5oURnRNlbXPUEQQyvimoEx8DwqMPLW) \n",
    "*   Berikan insight dari hasil visualisasi tersebut"
   ]
  },
  {
   "cell_type": "code",
   "execution_count": 58,
   "metadata": {
    "id": "q6ooEnFuNXo_"
   },
   "outputs": [
    {
     "data": {
      "text/plain": [
       "Text(0.5, 1.0, \"Indonesia's ladder score over the years\")"
      ]
     },
     "execution_count": 58,
     "metadata": {},
     "output_type": "execute_result"
    },
    {
     "data": {
      "image/png": "[encoded data removed]",
      "text/plain": [
       "<Figure size 432x288 with 1 Axes>"
      ]
     },
     "metadata": {},
     "output_type": "display_data"
    }
   ],
   "source": [
    "#code here\n",
    "df = pd.read_csv(\"indonesia.csv\")\n",
    "sns.set_style(\"whitegrid\")\n",
    "\n",
    "x = sns.lineplot(\n",
    "    data=df, x=\"Year\", y=\"Life Ladder\", ci=68, markers= [\"o\",\"o\"],marker = True\n",
    ")\n",
    "x.set_title(\"Indonesia's ladder score over the years\")"
   ]
  },
  {
   "cell_type": "markdown",
   "metadata": {
    "id": "LyJtpafNNZam"
   },
   "source": [
    "Expected output:\n",
    "\n",
    "![Expected Output:](https://drive.google.com/uc?id=16Qlf66XYLNSGtJpCx1hWkQI0CmffaaGW)"
   ]
  },
  {
   "cell_type": "markdown",
   "metadata": {
    "id": "DbP8ilbY0LH5"
   },
   "source": [
    "#### Berikan insight disini:"
   ]
  },
  {
   "cell_type": "markdown",
   "metadata": {
    "id": "O4xAgXXyNp-L"
   },
   "source": [
    "\n",
    "\n",
    "---\n",
    "Insight\n",
    "1. Ladder score Indonesia berada di titik terendah pada tahun 2008 bertepatan dengan krisis moneter dunia\n",
    "2. Indonesia Ladder score berada di titik tertinggi pada tahun 2014\n",
    "3. Dari tahun 2018 - 2021, Indonesia's Ladder score cenderung stagnan.\n",
    "\n",
    "\n",
    "---\n",
    "\n"
   ]
  },
  {
   "cell_type": "markdown",
   "metadata": {
    "id": "XAcTw9DENsKy"
   },
   "source": [
    "# Soal 5: Urutkan Ladder Score tertinggi dengan negara-negara Asia Tenggara seperti expected output\n",
    "\n",
    "Untuk mendapatkan expected output, lakukan perintah-perintah berikut:\n",
    "\n",
    "*   Sorting data berdasarkan kolom 'Ladder Score' dari dataset world happiness 2021 dengan hanya menampilkan kolom ['Country name', 'Ladder score', 'Regional indicator']. Sorting data menggunakan sort_values() dari pandas, silahkan kunjungi dokumentasi berikut: https://pandas.pydata.org/docs/reference/api/pandas.DataFrame.sort_values.html\n",
    "*   Urutan pertama diperoleh dari hasil filtering dengan kondisi ['Ladder score']==['Ladder score'].max()\n",
    "\n",
    "*   Urutan negara-negara Asia tenggara diperoleh dari hasil Filtering kolom ['Regional indicator'] == 'Southeast Asia'\n",
    "*   Lakukan concatination antara data Urutan pertama dengan urutan negara Asia Tenggara menggunakan pd.concat()\n",
    "*   Tambahkan kolom ['Rank'] yang berisi dari indeks hasil penggabungan\n",
    "*   drop kolom 'Regional indicator'\n"
   ]
  },
  {
   "cell_type": "code",
   "execution_count": 145,
   "metadata": {
    "id": "bwl-vbqPNwwJ"
   },
   "outputs": [
    {
     "data": {
      "text/plain": [
       "Int64Index([0, 31, 53, 60, 78, 80, 81, 99, 113, 125], dtype='int64')"
      ]
     },
     "execution_count": 145,
     "metadata": {},
     "output_type": "execute_result"
    }
   ],
   "source": [
    "#code here\n",
    "\n",
    "\n",
    "x = df2[['Country name', 'Ladder score','Regional indicator']]\n",
    "x = x.sort_values(by=['Ladder score'], ascending = False)\n",
    "x = x.loc[x['Regional indicator'] == 'Southeast Asia']\n",
    "\n",
    "maks = df2['Ladder score'].max()\n",
    "y = df2[['Country name', 'Ladder score','Regional indicator']]\n",
    "y = y.loc[y['Ladder score']==maks]\n",
    "\n",
    "\n",
    "z = pd.concat([y, x], axis=\"index\")\n",
    "\n",
    "z.insert(3, \"Rank\", z.index + 1, True)\n",
    "\n",
    "z.index"
   ]
  },
  {
   "cell_type": "markdown",
   "metadata": {
    "id": "92T-4UylNypo"
   },
   "source": [
    "Expected output:\n",
    "\n",
    "![Expected Output:](https://drive.google.com/uc?id=1JTwA9auco2loNLRXHQFy0k6EpFhJeqA5)"
   ]
  },
  {
   "cell_type": "markdown",
   "metadata": {
    "id": "qjCOgqI9v46P"
   },
   "source": [
    "Bagaimana Rank Ladder score negara Indonesia jika dibandingkan dengan negara asean lainnya dan secara global?"
   ]
  },
  {
   "cell_type": "markdown",
   "metadata": {
    "id": "YcCJRcIowETB"
   },
   "source": [
    "jawab disini:"
   ]
  },
  {
   "cell_type": "markdown",
   "metadata": {
    "id": "MHZD7lRoOOwZ"
   },
   "source": [
    "\n",
    "\n",
    "---\n",
    "\n",
    "1. Indonesia menempati rank ke 82 secara global dalam kategori ladder score. ini tentu masih jauh dari Singapura yang berada\n",
    "pada peringkat ke 32.\n",
    "\n",
    "\n",
    "2. Dilihat dari peringkat dalam South East Asia, Indonesia juga masih tergolong dibelakang, karena hanya mendapat rank ke 5 jika dibandingkan dengan negara tetangganya di Asia Tenggara.\n",
    "\n",
    "\n",
    "---\n",
    "\n"
   ]
  },
  {
   "cell_type": "markdown",
   "metadata": {
    "id": "Qu3cF6ooORte"
   },
   "source": [
    "# Soal 6: Visualisasi Scatter plot dan Regression plot\n",
    "\n",
    "Buatlah visualisasi scatter plot (perpaduan seaborn dan matplotlib), Scatter plot menggunakan Matplotlib dan regresi plot menggunakan Seaborn dari df2 antara GDP per capita ('Logged GDP per capita') dan  skor korupsi ('Perceptions of corruptions')  sesuai expected output dengan ketentuan berikut:\n",
    "\n",
    "Gunakan kolom skor kebebasan beraksi ('Freedom to make life choices') sebagai ukuran pointnya kalikan suatu angka yang cukup besar agar terlihat.\n",
    "\n",
    "Gunakan kolom skor kesehatan ('Healthy life expectancy') sebagai warna point, berikan cmap 'plasma'.\n",
    "\n",
    "Gunakan regplot pada seaborn (sns.regplot) dengan argumen scatter=False dan color = 'black'"
   ]
  },
  {
   "cell_type": "code",
   "execution_count": 287,
   "metadata": {
    "id": "QMG5Alj3OWgq"
   },
   "outputs": [
    {
     "data": {
      "text/plain": [
       "<matplotlib.colorbar.Colorbar at 0x1bcf6e327a0>"
      ]
     },
     "execution_count": 287,
     "metadata": {},
     "output_type": "execute_result"
    },
    {
     "data": {
      "image/png": "[encoded data removed]",
      "text/plain": [
       "<Figure size 864x576 with 2 Axes>"
      ]
     },
     "metadata": {},
     "output_type": "display_data"
    }
   ],
   "source": [
    "#code here\n",
    "\n",
    "fig, ax = plt.subplots(figsize=(12,8))\n",
    "fig.suptitle('Corruption vs GDP percapita')\n",
    "\n",
    "sns.regplot(data = df2, \n",
    "            x = 'Logged GDP per capita',\n",
    "            y = 'Perceptions of corruption',\n",
    "            scatter = False,\n",
    "            color = 'black',\n",
    "            )\n",
    "plt.scatter(x = df2['Logged GDP per capita'], \n",
    "            y = df2['Perceptions of corruption'],\n",
    "            c = df2['Healthy life expectancy'],\n",
    "            cmap = \"plasma\",\n",
    "            s = df2['Freedom to make life choices']*500,\n",
    "            alpha = 0.7\n",
    "           )\n",
    "\n",
    "plt.colorbar(use_gridspec =  True)\n",
    "\n",
    "\n",
    "# plt.scatter(x, y, s=area, c=colors, alpha=0.5)\n",
    "\n",
    "\n"
   ]
  },
  {
   "cell_type": "markdown",
   "metadata": {
    "id": "oNlQ4FqWOiWE"
   },
   "source": [
    "Expected output:\n",
    "\n",
    "![Expected Output:](https://drive.google.com/uc?id=1KlQcNK6RNMNGoRkxwo4KPUgX40efZH7a)"
   ]
  },
  {
   "cell_type": "markdown",
   "metadata": {
    "id": "fbmoiIWCwJw2"
   },
   "source": [
    "Berikan insight dari hasil visualisasi diatas!"
   ]
  },
  {
   "cell_type": "markdown",
   "metadata": {
    "id": "4q6b6VgtwQPd"
   },
   "source": [
    "Jawab disini:"
   ]
  },
  {
   "cell_type": "markdown",
   "metadata": {
    "id": "y8-1A2IBwSyn"
   },
   "source": [
    "\n",
    "\n",
    "---\n",
    "\n",
    "\n",
    "\n",
    "---\n",
    "\n"
   ]
  }
 ],
 "metadata": {
  "colab": {
   "collapsed_sections": [],
   "name": "Quiz Pekan 3.ipynb",
   "provenance": []
  },
  "kernelspec": {
   "display_name": "Python 3 (ipykernel)",
   "language": "python",
   "name": "python3"
  },
  "language_info": {
   "codemirror_mode": {
    "name": "ipython",
    "version": 3
   },
   "file_extension": ".py",
   "mimetype": "text/x-python",
   "name": "python",
   "nbconvert_exporter": "python",
   "pygments_lexer": "ipython3",
   "version": "3.10.4"
  }
 },
 "nbformat": 4,
 "nbformat_minor": 1
}
